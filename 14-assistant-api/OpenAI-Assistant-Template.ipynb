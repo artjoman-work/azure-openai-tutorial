{
 "cells": [
  {
   "cell_type": "markdown",
   "id": "ce92af17",
   "metadata": {},
   "source": [
    "# You can use this as a template to quickly create an Assistant using OpenAI's Assistant API"
   ]
  },
  {
   "cell_type": "markdown",
   "id": "53cefa3f",
   "metadata": {},
   "source": [
    "### Import Packages"
   ]
  },
  {
   "cell_type": "code",
   "execution_count": 2,
   "id": "b21fdf7e-c27e-493c-b9d2-dbcc6ef61abb",
   "metadata": {},
   "outputs": [],
   "source": [
    "from dotenv import load_dotenv\n",
    "from utils.modules import *\n",
    "load_dotenv() # Load .env file\n",
    "from openai import OpenAI\n",
    "client = OpenAI() # Initialize OpenAI Client"
   ]
  },
  {
   "cell_type": "markdown",
   "id": "425d6874",
   "metadata": {},
   "source": [
    "### You can start an assistant from scratch or even use an already made assistant on a thread made from scratch\n",
    "\n",
    "-> For Assistants - \n",
    "* Set ```get_premade_assistant = False``` to create a new assistant.\n",
    "* Set ```get_premade_assistant = True``` if you want to use a previous assistant.\n",
    "\n",
    "-> For Threads -\n",
    "* Set ```get_previous_thread = False``` to create a new thread.\n",
    "* Set ```get_previous_thread = True``` if you want to use a previous thread.\n"
   ]
  },
  {
   "cell_type": "code",
   "execution_count": 22,
   "id": "d0ecdfe0",
   "metadata": {},
   "outputs": [],
   "source": [
    "get_premade_assistant = True\n",
    "get_previous_thread = True\n",
    "\n",
    "assistant_id_to_use = \"asst_thzCFFKsh5BCwWyREfXC1L8c\"\n",
    "thread_id_to_use = \"thread_96cDDMNRnjw54J4eQ8yHv1AD\""
   ]
  },
  {
   "cell_type": "markdown",
   "id": "24b89451",
   "metadata": {},
   "source": [
    "### Get Assistant using assistant id"
   ]
  },
  {
   "cell_type": "code",
   "execution_count": 23,
   "id": "0f7ff5d8",
   "metadata": {},
   "outputs": [
    {
     "name": "stdout",
     "output_type": "stream",
     "text": [
      "gpt-assistant-1 is ready to go!\n"
     ]
    }
   ],
   "source": [
    "if get_premade_assistant:\n",
    "    assistant = get_assistant(client, assistant_id_to_use) # Retrieve Assistant\n",
    "    print(assistant.name + \" is ready to go!\")\n",
    "else:\n",
    "    name = \"Science Tutor\"\n",
    "    description = \"A tutor for science students\"\n",
    "    instructions = \"You are going to help 5th grade students with their science homework. Make sure you give examples and explain the concepts in a way that they can understand.\"\n",
    "    tools = [\n",
    "        {type: \"code_interpreter\"},\n",
    "        {type: \"retrieval\"}\n",
    "    ]\n",
    "    assistant = create_assistant(client, name, description, instructions) # Create Assistant\n",
    "    print(\"New Assistant created with ID: \" + assistant.id)"
   ]
  },
  {
   "cell_type": "markdown",
   "id": "41131275",
   "metadata": {},
   "source": [
    "### Retrieve the previous conversation"
   ]
  },
  {
   "cell_type": "code",
   "execution_count": 24,
   "id": "e22be192",
   "metadata": {},
   "outputs": [
    {
     "name": "stdout",
     "output_type": "stream",
     "text": [
      "Chat retrieved with ID: thread_96cDDMNRnjw54J4eQ8yHv1AD\n",
      "Thread(id='thread_96cDDMNRnjw54J4eQ8yHv1AD', created_at=1701524805, metadata={}, object='thread')\n"
     ]
    }
   ],
   "source": [
    "# Retrieve the previous conversation thread\n",
    "\n",
    "if get_previous_thread:\n",
    "    thread = get_chat(client, thread_id_to_use)\n",
    "    print(\"Chat retrieved with ID: \" + thread.id)\n",
    "    print(thread)\n",
    "else:\n",
    "    thread = start_new_chat(client)\n",
    "    print(\"New chat created with ID: \" + thread.id)"
   ]
  },
  {
   "cell_type": "markdown",
   "id": "93fe179d",
   "metadata": {},
   "source": [
    "### Add new message into thread"
   ]
  },
  {
   "cell_type": "code",
   "execution_count": 25,
   "id": "745dd83a",
   "metadata": {},
   "outputs": [],
   "source": [
    "# Message to send to the assistant\n",
    "\n",
    "content = \"What are your 3 favourite fruits?\""
   ]
  },
  {
   "cell_type": "code",
   "execution_count": 26,
   "id": "eeee3d21",
   "metadata": {},
   "outputs": [
    {
     "name": "stdout",
     "output_type": "stream",
     "text": [
      "ThreadMessage(id='msg_S2nJsyJbekUXZyfeUFTzy570', assistant_id=None, content=[MessageContentText(text=Text(annotations=[], value='What are your 3 favourite fruits?'), type='text')], created_at=1701525034, file_ids=[], metadata={}, object='thread.message', role='user', run_id=None, thread_id='thread_96cDDMNRnjw54J4eQ8yHv1AD')\n"
     ]
    }
   ],
   "source": [
    "# Add the message into the thread\n",
    "\n",
    "new_message = add_message(client, thread, content)\n",
    "print(new_message)"
   ]
  },
  {
   "cell_type": "markdown",
   "id": "9a88354d",
   "metadata": {},
   "source": [
    "### Run the thread with the new message"
   ]
  },
  {
   "cell_type": "code",
   "execution_count": 27,
   "id": "5b2bf631",
   "metadata": {},
   "outputs": [
    {
     "data": {
      "text/plain": [
       "Run(id='run_Ou9Jqi1LShlSWBLHrDSi1kiS', assistant_id='asst_thzCFFKsh5BCwWyREfXC1L8c', cancelled_at=None, completed_at=None, created_at=1701525039, expires_at=1701525639, failed_at=None, file_ids=[], instructions=None, last_error=None, metadata={}, model='gpt-3.5-turbo-16k', object='thread.run', required_action=None, started_at=None, status='queued', thread_id='thread_96cDDMNRnjw54J4eQ8yHv1AD', tools=[])"
      ]
     },
     "execution_count": 27,
     "metadata": {},
     "output_type": "execute_result"
    }
   ],
   "source": [
    "# Run the thread with the assistant with the new message\n",
    "\n",
    "run_chat(client, thread, assistant)"
   ]
  },
  {
   "cell_type": "markdown",
   "id": "4d56818b",
   "metadata": {},
   "source": [
    "# Run the below code everytime you need to see the new chats"
   ]
  },
  {
   "cell_type": "code",
   "execution_count": 29,
   "id": "67930e27",
   "metadata": {},
   "outputs": [
    {
     "name": "stdout",
     "output_type": "stream",
     "text": [
      "USER: Hello! Please use words starting with letter a only in your responses\n",
      "ASSISTANT: Absolutely! I will do my best to respond using words starting with the letter \"a\" as much as possible. Ask away!\n",
      "USER: how are you today?\n",
      "ASSISTANT: Ah, absolutely amazing! Appreciating and admiring this auspicious day. And you, are you also feeling awesome?\n",
      "USER: What are your 3 favourite fruits?\n",
      "ASSISTANT: Amongst all the abundant and appetizing fruits, it's quite arduous to choose only three favorites! However, if I had to pick, I would ardently advocate for apples, apricots, and avocados.\n"
     ]
    }
   ],
   "source": [
    "# Retrieve the chat history\n",
    "\n",
    "history = get_messages_in_chat(client, thread)\n",
    "messages = history.data[::-1]\n",
    "for i in messages:\n",
    "    print(i.role.upper() + \": \"+ i.content[0].text.value)"
   ]
  },
  {
   "cell_type": "code",
   "execution_count": null,
   "id": "d842b439-697b-4201-b597-d185bb7981c4",
   "metadata": {},
   "outputs": [],
   "source": []
  }
 ],
 "metadata": {
  "kernelspec": {
   "display_name": "Python 3 (ipykernel)",
   "language": "python",
   "name": "python3"
  },
  "language_info": {
   "codemirror_mode": {
    "name": "ipython",
    "version": 3
   },
   "file_extension": ".py",
   "mimetype": "text/x-python",
   "name": "python",
   "nbconvert_exporter": "python",
   "pygments_lexer": "ipython3",
   "version": "3.12.0"
  }
 },
 "nbformat": 4,
 "nbformat_minor": 5
}
